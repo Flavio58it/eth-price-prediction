{
 "cells": [
  {
   "cell_type": "markdown",
   "metadata": {},
   "source": [
    "# Using Machine Learning for ETH price prediction"
   ]
  },
  {
   "cell_type": "code",
   "execution_count": 1,
   "metadata": {},
   "outputs": [],
   "source": [
    "import json\n",
    "from pprint import pprint"
   ]
  },
  {
   "cell_type": "markdown",
   "metadata": {},
   "source": [
    "### Fetching the data\n",
    "Training data has been retrieved by using the Poloniex API (see https://poloniex.com). "
   ]
  },
  {
   "cell_type": "code",
   "execution_count": 2,
   "metadata": {},
   "outputs": [
    {
     "name": "stdout",
     "output_type": "stream",
     "text": [
      "38428\n"
     ]
    }
   ],
   "source": [
    "with open(\"poloniex.json\") as f:\n",
    "    data = json.load(f)\n",
    "    \n",
    "closing = [d[\"close\"] for d in data]\n",
    "print(len(closing))"
   ]
  },
  {
   "cell_type": "code",
   "execution_count": 3,
   "metadata": {},
   "outputs": [],
   "source": [
    "zipped = zip(closing[0:-1], closing[1:])\n",
    "changes = [d1 / d0 - 1for d0, d1 in zipped]"
   ]
  },
  {
   "cell_type": "markdown",
   "metadata": {},
   "source": [
    "## Using an LSTM (Long Short Term Memory)"
   ]
  },
  {
   "cell_type": "code",
   "execution_count": 4,
   "metadata": {},
   "outputs": [
    {
     "name": "stderr",
     "output_type": "stream",
     "text": [
      "/home/felix/anaconda3/lib/python3.6/site-packages/h5py/__init__.py:36: FutureWarning: Conversion of the second argument of issubdtype from `float` to `np.floating` is deprecated. In future, it will be treated as `np.float64 == np.dtype(float).type`.\n",
      "  from ._conv import register_converters as _register_converters\n",
      "Using TensorFlow backend.\n"
     ]
    }
   ],
   "source": [
    "from keras.models import Sequential\n",
    "from keras.layers import Dense, Activation, Dropout\n",
    "from keras.layers import LSTM\n",
    "from keras.optimizers import RMSprop\n",
    "import numpy as np\n",
    "import random"
   ]
  },
  {
   "cell_type": "code",
   "execution_count": 5,
   "metadata": {},
   "outputs": [
    {
     "name": "stdout",
     "output_type": "stream",
     "text": [
      "max abs. change 0.41267285436974777\n"
     ]
    }
   ],
   "source": [
    "length = 40\n",
    "step = 3\n",
    "sequences = []\n",
    "results = []\n",
    "for i in range(0, len(changes) - length - 2, step):\n",
    "    sequences.append(changes[i: i + length])\n",
    "    results.append(closing[i + length + 2] / closing[i] - 1)\n",
    "\n",
    "print(\"max abs. change\", np.max(np.abs(results)))\n",
    "\n",
    "sequences = [[[v] for v in sequence] for sequence in sequences]\n",
    "n_valid = int(0.3 * len(sequences))\n",
    "x_train = np.array(sequences[:-n_valid])\n",
    "y_train = np.array(results[:-n_valid])\n",
    "\n",
    "x_valid = np.array(sequences[-n_valid:])\n",
    "y_valid = np.array(results[-n_valid:])"
   ]
  },
  {
   "cell_type": "code",
   "execution_count": 6,
   "metadata": {},
   "outputs": [
    {
     "name": "stdout",
     "output_type": "stream",
     "text": [
      "[[ 0.00000000e+00]\n",
      " [ 2.62001108e-02]\n",
      " [ 0.00000000e+00]\n",
      " [ 0.00000000e+00]\n",
      " [ 1.57175304e-02]\n",
      " [ 5.10336214e-03]\n",
      " [-6.02293157e-03]\n",
      " [-2.05559016e-02]\n",
      " [ 0.00000000e+00]\n",
      " [ 2.08189667e-02]\n",
      " [-2.57175024e-02]\n",
      " [ 2.63963506e-02]\n",
      " [ 0.00000000e+00]\n",
      " [-7.99796127e-03]\n",
      " [ 6.65583468e-03]\n",
      " [-2.34435510e-02]\n",
      " [ 2.54366773e-02]\n",
      " [ 5.11628169e-07]\n",
      " [ 0.00000000e+00]\n",
      " [ 4.65116279e-03]\n",
      " [ 0.00000000e+00]\n",
      " [-2.45358457e-02]\n",
      " [ 3.06704546e-02]\n",
      " [ 0.00000000e+00]\n",
      " [-5.00000008e-03]\n",
      " [ 5.02515656e-03]\n",
      " [ 3.68387665e-08]\n",
      " [ 0.00000000e+00]\n",
      " [-1.02364721e-02]\n",
      " [ 6.28746345e-03]\n",
      " [ 3.35415573e-03]\n",
      " [ 4.13956379e-02]\n",
      " [ 8.25396948e-02]\n",
      " [-2.03838929e-02]\n",
      " [ 6.58683171e-03]\n",
      " [ 1.59836051e-02]\n",
      " [ 1.99852313e-02]\n",
      " [-1.69033198e-03]\n",
      " [-1.29983193e-02]\n",
      " [ 2.65974953e-02]]\n",
      "0.22423507446773328\n",
      "(40, 1)\n"
     ]
    }
   ],
   "source": [
    "print(x_train[0])\n",
    "print(y_train[0])\n",
    "\n",
    "print(x_train[-1].shape)"
   ]
  },
  {
   "cell_type": "code",
   "execution_count": 7,
   "metadata": {},
   "outputs": [
    {
     "name": "stdout",
     "output_type": "stream",
     "text": [
      "Build model...\n"
     ]
    }
   ],
   "source": [
    "model = Sequential()\n",
    "model.add(LSTM(32, input_shape=(length, 1), return_sequences=False))\n",
    "#model.add(Dropout(0.4))\n",
    "#model.add(LSTM(16))\n",
    "model.add(Dense(1))\n",
    "model.add(Activation('tanh'))\n",
    "\n",
    "optimizer = RMSprop(lr=0.005, clipvalue=1.)\n",
    "model.compile(loss='mean_absolute_error', optimizer=optimizer)\n",
    "print('Build model...')"
   ]
  },
  {
   "cell_type": "code",
   "execution_count": 8,
   "metadata": {},
   "outputs": [
    {
     "name": "stdout",
     "output_type": "stream",
     "text": [
      "Train on 8957 samples, validate on 3838 samples\n",
      "Epoch 1/65\n",
      "8957/8957 [==============================] - 4s 410us/step - loss: 0.0430 - val_loss: 0.0450\n",
      "Epoch 2/65\n",
      "8957/8957 [==============================] - 3s 374us/step - loss: 0.0393 - val_loss: 0.0265\n",
      "Epoch 3/65\n",
      "8957/8957 [==============================] - 3s 364us/step - loss: 0.0342 - val_loss: 0.0275\n",
      "Epoch 4/65\n",
      "8957/8957 [==============================] - 3s 369us/step - loss: 0.0336 - val_loss: 0.0247\n",
      "Epoch 5/65\n",
      "8957/8957 [==============================] - 3s 360us/step - loss: 0.0316 - val_loss: 0.0507\n",
      "Epoch 6/65\n",
      "8957/8957 [==============================] - 3s 385us/step - loss: 0.0300 - val_loss: 0.0281\n",
      "Epoch 7/65\n",
      "8957/8957 [==============================] - 3s 369us/step - loss: 0.0274 - val_loss: 0.0187\n",
      "Epoch 8/65\n",
      "8957/8957 [==============================] - 3s 363us/step - loss: 0.0253 - val_loss: 0.0155\n",
      "Epoch 9/65\n",
      "8957/8957 [==============================] - 3s 360us/step - loss: 0.0242 - val_loss: 0.0173\n",
      "Epoch 10/65\n",
      "8957/8957 [==============================] - 3s 364us/step - loss: 0.0229 - val_loss: 0.0336\n",
      "Epoch 11/65\n",
      "8957/8957 [==============================] - 3s 345us/step - loss: 0.0219 - val_loss: 0.0170\n",
      "Epoch 12/65\n",
      "8957/8957 [==============================] - 3s 355us/step - loss: 0.0209 - val_loss: 0.0332\n",
      "Epoch 13/65\n",
      "8957/8957 [==============================] - 3s 353us/step - loss: 0.0208 - val_loss: 0.0136\n",
      "Epoch 14/65\n",
      "8957/8957 [==============================] - 3s 365us/step - loss: 0.0200 - val_loss: 0.0194\n",
      "Epoch 15/65\n",
      "8957/8957 [==============================] - 3s 385us/step - loss: 0.0193 - val_loss: 0.0149\n",
      "Epoch 16/65\n",
      "8957/8957 [==============================] - 3s 390us/step - loss: 0.0191 - val_loss: 0.0201\n",
      "Epoch 17/65\n",
      "8957/8957 [==============================] - 3s 341us/step - loss: 0.0187 - val_loss: 0.0153\n",
      "Epoch 18/65\n",
      "8957/8957 [==============================] - 3s 349us/step - loss: 0.0182 - val_loss: 0.0218\n",
      "Epoch 19/65\n",
      "8957/8957 [==============================] - 3s 350us/step - loss: 0.0181 - val_loss: 0.0309\n",
      "Epoch 20/65\n",
      "8957/8957 [==============================] - 3s 353us/step - loss: 0.0177 - val_loss: 0.0187\n",
      "Epoch 21/65\n",
      "8957/8957 [==============================] - 3s 342us/step - loss: 0.0175 - val_loss: 0.0175\n",
      "Epoch 22/65\n",
      "8957/8957 [==============================] - 3s 347us/step - loss: 0.0172 - val_loss: 0.0111\n",
      "Epoch 23/65\n",
      "8957/8957 [==============================] - 3s 358us/step - loss: 0.0168 - val_loss: 0.0153\n",
      "Epoch 24/65\n",
      "8957/8957 [==============================] - 3s 357us/step - loss: 0.0167 - val_loss: 0.0156\n",
      "Epoch 25/65\n",
      "8957/8957 [==============================] - 3s 353us/step - loss: 0.0164 - val_loss: 0.0129\n",
      "Epoch 26/65\n",
      "8957/8957 [==============================] - 3s 343us/step - loss: 0.0162 - val_loss: 0.0112\n",
      "Epoch 27/65\n",
      "8957/8957 [==============================] - 3s 348us/step - loss: 0.0159 - val_loss: 0.0211\n",
      "Epoch 28/65\n",
      "8957/8957 [==============================] - 3s 342us/step - loss: 0.0158 - val_loss: 0.0154\n",
      "Epoch 29/65\n",
      "8957/8957 [==============================] - 3s 347us/step - loss: 0.0155 - val_loss: 0.0188\n",
      "Epoch 30/65\n",
      "8957/8957 [==============================] - 3s 347us/step - loss: 0.0154 - val_loss: 0.0141\n",
      "Epoch 31/65\n",
      "8957/8957 [==============================] - 3s 353us/step - loss: 0.0153 - val_loss: 0.0178\n",
      "Epoch 32/65\n",
      "8957/8957 [==============================] - 3s 349us/step - loss: 0.0150 - val_loss: 0.0152\n",
      "Epoch 33/65\n",
      "8957/8957 [==============================] - 3s 347us/step - loss: 0.0149 - val_loss: 0.0220\n",
      "Epoch 34/65\n",
      "8957/8957 [==============================] - 3s 354us/step - loss: 0.0148 - val_loss: 0.0154\n",
      "Epoch 35/65\n",
      "8957/8957 [==============================] - 3s 359us/step - loss: 0.0148 - val_loss: 0.0121\n",
      "Epoch 36/65\n",
      "8957/8957 [==============================] - 3s 358us/step - loss: 0.0148 - val_loss: 0.0181\n",
      "Epoch 37/65\n",
      "8957/8957 [==============================] - 3s 355us/step - loss: 0.0145 - val_loss: 0.0226\n",
      "Epoch 38/65\n",
      "8957/8957 [==============================] - 3s 356us/step - loss: 0.0145 - val_loss: 0.0142\n",
      "Epoch 39/65\n",
      "8957/8957 [==============================] - 3s 366us/step - loss: 0.0142 - val_loss: 0.0167\n",
      "Epoch 40/65\n",
      "8957/8957 [==============================] - 3s 363us/step - loss: 0.0142 - val_loss: 0.0127\n",
      "Epoch 41/65\n",
      "8957/8957 [==============================] - 3s 363us/step - loss: 0.0142 - val_loss: 0.0152\n",
      "Epoch 42/65\n",
      "8957/8957 [==============================] - 3s 350us/step - loss: 0.0139 - val_loss: 0.0115\n",
      "Epoch 43/65\n",
      "8957/8957 [==============================] - 3s 352us/step - loss: 0.0139 - val_loss: 0.0164\n",
      "Epoch 44/65\n",
      "8957/8957 [==============================] - 3s 354us/step - loss: 0.0139 - val_loss: 0.0108\n",
      "Epoch 45/65\n",
      "8957/8957 [==============================] - 3s 364us/step - loss: 0.0138 - val_loss: 0.0148\n",
      "Epoch 46/65\n",
      "8957/8957 [==============================] - 3s 347us/step - loss: 0.0138 - val_loss: 0.0166\n",
      "Epoch 47/65\n",
      "8957/8957 [==============================] - 3s 343us/step - loss: 0.0136 - val_loss: 0.0140\n",
      "Epoch 48/65\n",
      "8957/8957 [==============================] - 3s 342us/step - loss: 0.0135 - val_loss: 0.0142\n",
      "Epoch 49/65\n",
      "8957/8957 [==============================] - 3s 341us/step - loss: 0.0134 - val_loss: 0.0145\n",
      "Epoch 50/65\n",
      "8957/8957 [==============================] - 3s 344us/step - loss: 0.0134 - val_loss: 0.0127\n",
      "Epoch 51/65\n",
      "8957/8957 [==============================] - 3s 343us/step - loss: 0.0132 - val_loss: 0.0177\n",
      "Epoch 52/65\n",
      "8957/8957 [==============================] - 3s 341us/step - loss: 0.0132 - val_loss: 0.0115\n",
      "Epoch 53/65\n",
      "8957/8957 [==============================] - 3s 341us/step - loss: 0.0131 - val_loss: 0.0121\n",
      "Epoch 54/65\n",
      "8957/8957 [==============================] - 3s 341us/step - loss: 0.0131 - val_loss: 0.0125\n",
      "Epoch 55/65\n",
      "8957/8957 [==============================] - 3s 341us/step - loss: 0.0130 - val_loss: 0.0122\n",
      "Epoch 56/65\n",
      "8957/8957 [==============================] - 3s 341us/step - loss: 0.0130 - val_loss: 0.0133\n",
      "Epoch 57/65\n",
      "8957/8957 [==============================] - 3s 340us/step - loss: 0.0130 - val_loss: 0.0117\n",
      "Epoch 58/65\n",
      "8957/8957 [==============================] - 3s 340us/step - loss: 0.0129 - val_loss: 0.0111\n",
      "Epoch 59/65\n",
      "8957/8957 [==============================] - 3s 343us/step - loss: 0.0129 - val_loss: 0.0111\n",
      "Epoch 60/65\n",
      "8957/8957 [==============================] - 3s 341us/step - loss: 0.0128 - val_loss: 0.0172\n",
      "Epoch 61/65\n",
      "8957/8957 [==============================] - 3s 341us/step - loss: 0.0129 - val_loss: 0.0144\n",
      "Epoch 62/65\n",
      "8957/8957 [==============================] - 3s 348us/step - loss: 0.0127 - val_loss: 0.0128\n",
      "Epoch 63/65\n",
      "8957/8957 [==============================] - 3s 342us/step - loss: 0.0127 - val_loss: 0.0138\n",
      "Epoch 64/65\n",
      "8957/8957 [==============================] - 3s 342us/step - loss: 0.0128 - val_loss: 0.0128\n",
      "Epoch 65/65\n",
      "8957/8957 [==============================] - 3s 344us/step - loss: 0.0126 - val_loss: 0.0175\n"
     ]
    },
    {
     "data": {
      "text/plain": [
       "<keras.callbacks.History at 0x7fbf1cc42a58>"
      ]
     },
     "execution_count": 8,
     "metadata": {},
     "output_type": "execute_result"
    }
   ],
   "source": [
    "model.fit(x_train, y_train,\n",
    "          batch_size=32,\n",
    "          epochs=65,\n",
    "          validation_data=[x_valid, y_valid]\n",
    "          )"
   ]
  },
  {
   "cell_type": "code",
   "execution_count": 9,
   "metadata": {},
   "outputs": [
    {
     "name": "stdout",
     "output_type": "stream",
     "text": [
      "0.007177252219517306\n",
      "0.04353519267071629\n"
     ]
    }
   ],
   "source": [
    "mean = np.mean(results)\n",
    "print(mean)\n",
    "mean_naive_error = np.mean([abs(r - mean) for r in results])\n",
    "print(mean_naive_error)"
   ]
  },
  {
   "cell_type": "code",
   "execution_count": 10,
   "metadata": {},
   "outputs": [
    {
     "name": "stdout",
     "output_type": "stream",
     "text": [
      "[[ 0.01299654]\n",
      " [ 0.01228989]\n",
      " [-0.04567677]\n",
      " [-0.03527839]\n",
      " [-0.02091657]\n",
      " [-0.04552354]\n",
      " [-0.05517202]\n",
      " [-0.09301236]\n",
      " [-0.1397008 ]\n",
      " [-0.09860522]\n",
      " [-0.10334683]\n",
      " [-0.12534826]\n",
      " [-0.10874962]\n",
      " [-0.15743524]\n",
      " [-0.14613724]\n",
      " [-0.10383034]\n",
      " [-0.10685607]\n",
      " [-0.08644586]\n",
      " [-0.10484207]\n",
      " [-0.08880618]\n",
      " [-0.08093276]\n",
      " [-0.00682572]\n",
      " [-0.02745242]\n",
      " [-0.03046972]\n",
      " [-0.05216527]\n",
      " [-0.04630762]\n",
      " [-0.00667612]\n",
      " [ 0.02205369]\n",
      " [-0.01635568]\n",
      " [-0.05357958]]\n",
      "[ 0.03267698 -0.02564482 -0.00886626 -0.01340034 -0.01239095 -0.04476311\n",
      " -0.04918033 -0.11403215 -0.1005057  -0.09017296 -0.09854839 -0.09814838\n",
      " -0.12454729 -0.14569672 -0.1231185  -0.06989254 -0.06938775 -0.07414533\n",
      " -0.0941634  -0.05879929 -0.03586207  0.00794259 -0.00723929 -0.04200783\n",
      " -0.04097334 -0.04252955  0.01794387  0.03308309 -0.03163657 -0.06350529]\n"
     ]
    }
   ],
   "source": [
    "print(model.predict(x_valid[0:30]))\n",
    "print(y_valid[0:30])"
   ]
  },
  {
   "cell_type": "code",
   "execution_count": 11,
   "metadata": {},
   "outputs": [],
   "source": [
    "model.save(\"model-price-prediction.h5\")"
   ]
  },
  {
   "cell_type": "code",
   "execution_count": 12,
   "metadata": {},
   "outputs": [
    {
     "name": "stdout",
     "output_type": "stream",
     "text": [
      "1525896588\n",
      "https://poloniex.com/public?command=returnChartData&currencyPair=USDT_ETH&start=1525896588&end=9999999999&period=1800\n"
     ]
    }
   ],
   "source": [
    "import time\n",
    "\n",
    "current_time = int(time.time())\n",
    "start = current_time - 1800 * 41\n",
    "print(start)\n",
    "api_call = \"https://poloniex.com/public?command=returnChartData&currencyPair=USDT_ETH&start={}&end=9999999999&period=1800\".format(start)\n",
    "print(api_call)\n",
    "import urllib.request\n",
    "contents = urllib.request.urlopen(api_call).read()"
   ]
  },
  {
   "cell_type": "code",
   "execution_count": 13,
   "metadata": {},
   "outputs": [],
   "source": [
    "js = json.loads(contents)\n",
    "closing = [d[\"close\"] for d in js]\n",
    "zipped = zip(closing[:-1], closing[1:])\n",
    "values = [[d1 / d0 - 1] for d0, d1 in zipped]"
   ]
  },
  {
   "cell_type": "code",
   "execution_count": 14,
   "metadata": {},
   "outputs": [
    {
     "name": "stdout",
     "output_type": "stream",
     "text": [
      "[[0.01117908]]\n"
     ]
    }
   ],
   "source": [
    "print(model.predict(np.array([values])))"
   ]
  },
  {
   "cell_type": "markdown",
   "metadata": {},
   "source": [
    "## Using an SVM (Support Vector Machine)"
   ]
  },
  {
   "cell_type": "code",
   "execution_count": 15,
   "metadata": {},
   "outputs": [],
   "source": [
    "from sklearn.svm import SVR\n",
    "from sklearn.model_selection import GridSearchCV\n",
    "from sklearn.metrics import mean_absolute_error"
   ]
  },
  {
   "cell_type": "code",
   "execution_count": 16,
   "metadata": {},
   "outputs": [
    {
     "name": "stdout",
     "output_type": "stream",
     "text": [
      "Fitting 5 folds for each of 16 candidates, totalling 80 fits\n",
      "[CV] C=0.1, gamma=0.01, kernel=rbf ...................................\n",
      "[CV]  C=0.1, gamma=0.01, kernel=rbf, score=-0.033444439938619785, total=   0.4s\n",
      "[CV] C=0.1, gamma=0.01, kernel=rbf ...................................\n"
     ]
    },
    {
     "name": "stderr",
     "output_type": "stream",
     "text": [
      "[Parallel(n_jobs=1)]: Done   1 out of   1 | elapsed:    0.7s remaining:    0.0s\n"
     ]
    },
    {
     "name": "stdout",
     "output_type": "stream",
     "text": [
      "[CV]  C=0.1, gamma=0.01, kernel=rbf, score=-0.17807416379103502, total=   0.5s\n",
      "[CV] C=0.1, gamma=0.01, kernel=rbf ...................................\n"
     ]
    },
    {
     "name": "stderr",
     "output_type": "stream",
     "text": [
      "[Parallel(n_jobs=1)]: Done   2 out of   2 | elapsed:    1.5s remaining:    0.0s\n"
     ]
    },
    {
     "name": "stdout",
     "output_type": "stream",
     "text": [
      "[CV]  C=0.1, gamma=0.01, kernel=rbf, score=-0.23227590156423972, total=   0.5s\n",
      "[CV] C=0.1, gamma=0.01, kernel=rbf ...................................\n"
     ]
    },
    {
     "name": "stderr",
     "output_type": "stream",
     "text": [
      "[Parallel(n_jobs=1)]: Done   3 out of   3 | elapsed:    2.3s remaining:    0.0s\n"
     ]
    },
    {
     "name": "stdout",
     "output_type": "stream",
     "text": [
      "[CV]  C=0.1, gamma=0.01, kernel=rbf, score=-0.00836785821041075, total=   0.4s\n",
      "[CV] C=0.1, gamma=0.01, kernel=rbf ...................................\n"
     ]
    },
    {
     "name": "stderr",
     "output_type": "stream",
     "text": [
      "[Parallel(n_jobs=1)]: Done   4 out of   4 | elapsed:    3.0s remaining:    0.0s\n"
     ]
    },
    {
     "name": "stdout",
     "output_type": "stream",
     "text": [
      "[CV]  C=0.1, gamma=0.01, kernel=rbf, score=-0.03961634791501045, total=   0.4s\n",
      "[CV] C=0.1, gamma=0.001, kernel=rbf ..................................\n",
      "[CV]  C=0.1, gamma=0.001, kernel=rbf, score=-0.040327748058734514, total=   0.4s\n",
      "[CV] C=0.1, gamma=0.001, kernel=rbf ..................................\n",
      "[CV]  C=0.1, gamma=0.001, kernel=rbf, score=-0.18843738479124905, total=   0.5s\n",
      "[CV] C=0.1, gamma=0.001, kernel=rbf ..................................\n",
      "[CV]  C=0.1, gamma=0.001, kernel=rbf, score=-0.24680195458903986, total=   0.5s\n",
      "[CV] C=0.1, gamma=0.001, kernel=rbf ..................................\n",
      "[CV]  C=0.1, gamma=0.001, kernel=rbf, score=-0.018320441113637287, total=   0.4s\n",
      "[CV] C=0.1, gamma=0.001, kernel=rbf ..................................\n",
      "[CV]  C=0.1, gamma=0.001, kernel=rbf, score=-0.047964236693890605, total=   0.4s\n",
      "[CV] C=0.1, gamma=0.0001, kernel=rbf .................................\n",
      "[CV]  C=0.1, gamma=0.0001, kernel=rbf, score=-0.04125943942479071, total=   0.4s\n",
      "[CV] C=0.1, gamma=0.0001, kernel=rbf .................................\n",
      "[CV]  C=0.1, gamma=0.0001, kernel=rbf, score=-0.1895571706305561, total=   0.5s\n",
      "[CV] C=0.1, gamma=0.0001, kernel=rbf .................................\n",
      "[CV]  C=0.1, gamma=0.0001, kernel=rbf, score=-0.24751870104731852, total=   0.5s\n",
      "[CV] C=0.1, gamma=0.0001, kernel=rbf .................................\n",
      "[CV]  C=0.1, gamma=0.0001, kernel=rbf, score=-0.02012658003387391, total=   0.4s\n",
      "[CV] C=0.1, gamma=0.0001, kernel=rbf .................................\n",
      "[CV]  C=0.1, gamma=0.0001, kernel=rbf, score=-0.04889124159968783, total=   0.4s\n",
      "[CV] C=0.1, gamma=1e-05, kernel=rbf ..................................\n",
      "[CV]  C=0.1, gamma=1e-05, kernel=rbf, score=-0.04135266892646294, total=   0.4s\n",
      "[CV] C=0.1, gamma=1e-05, kernel=rbf ..................................\n",
      "[CV]  C=0.1, gamma=1e-05, kernel=rbf, score=-0.18895621405319174, total=   0.5s\n",
      "[CV] C=0.1, gamma=1e-05, kernel=rbf ..................................\n",
      "[CV]  C=0.1, gamma=1e-05, kernel=rbf, score=-0.24758751779379495, total=   0.5s\n",
      "[CV] C=0.1, gamma=1e-05, kernel=rbf ..................................\n",
      "[CV]  C=0.1, gamma=1e-05, kernel=rbf, score=-0.020243970946652423, total=   0.4s\n",
      "[CV] C=0.1, gamma=1e-05, kernel=rbf ..................................\n",
      "[CV]  C=0.1, gamma=1e-05, kernel=rbf, score=-0.048734717953709206, total=   0.4s\n",
      "[CV] C=1, gamma=0.01, kernel=rbf .....................................\n",
      "[CV]  C=1, gamma=0.01, kernel=rbf, score=0.043635683167685624, total=   0.4s\n",
      "[CV] C=1, gamma=0.01, kernel=rbf .....................................\n",
      "[CV]  C=1, gamma=0.01, kernel=rbf, score=-0.09301714314263898, total=   0.4s\n",
      "[CV] C=1, gamma=0.01, kernel=rbf .....................................\n",
      "[CV]  C=1, gamma=0.01, kernel=rbf, score=-0.1312474242061059, total=   0.5s\n",
      "[CV] C=1, gamma=0.01, kernel=rbf .....................................\n",
      "[CV]  C=1, gamma=0.01, kernel=rbf, score=0.07204139621452121, total=   0.4s\n",
      "[CV] C=1, gamma=0.01, kernel=rbf .....................................\n",
      "[CV]  C=1, gamma=0.01, kernel=rbf, score=0.032335992187222495, total=   0.3s\n",
      "[CV] C=1, gamma=0.001, kernel=rbf ....................................\n",
      "[CV]  C=1, gamma=0.001, kernel=rbf, score=-0.03344102727192588, total=   0.4s\n",
      "[CV] C=1, gamma=0.001, kernel=rbf ....................................\n",
      "[CV]  C=1, gamma=0.001, kernel=rbf, score=-0.17805780547162087, total=   0.5s\n",
      "[CV] C=1, gamma=0.001, kernel=rbf ....................................\n",
      "[CV]  C=1, gamma=0.001, kernel=rbf, score=-0.23226923792892817, total=   0.5s\n",
      "[CV] C=1, gamma=0.001, kernel=rbf ....................................\n",
      "[CV]  C=1, gamma=0.001, kernel=rbf, score=-0.008363329526240415, total=   0.4s\n",
      "[CV] C=1, gamma=0.001, kernel=rbf ....................................\n",
      "[CV]  C=1, gamma=0.001, kernel=rbf, score=-0.03961180651967733, total=   0.4s\n",
      "[CV] C=1, gamma=0.0001, kernel=rbf ...................................\n",
      "[CV]  C=1, gamma=0.0001, kernel=rbf, score=-0.04032741818213248, total=   0.4s\n",
      "[CV] C=1, gamma=0.0001, kernel=rbf ...................................\n",
      "[CV]  C=1, gamma=0.0001, kernel=rbf, score=-0.1884302520046397, total=   0.5s\n",
      "[CV] C=1, gamma=0.0001, kernel=rbf ...................................\n",
      "[CV]  C=1, gamma=0.0001, kernel=rbf, score=-0.24680440654339697, total=   0.5s\n",
      "[CV] C=1, gamma=0.0001, kernel=rbf ...................................\n",
      "[CV]  C=1, gamma=0.0001, kernel=rbf, score=-0.01831981519642123, total=   0.5s\n",
      "[CV] C=1, gamma=0.0001, kernel=rbf ...................................\n",
      "[CV]  C=1, gamma=0.0001, kernel=rbf, score=-0.047963742426603284, total=   0.4s\n",
      "[CV] C=1, gamma=1e-05, kernel=rbf ....................................\n",
      "[CV]  C=1, gamma=1e-05, kernel=rbf, score=-0.041259406311384916, total=   0.4s\n",
      "[CV] C=1, gamma=1e-05, kernel=rbf ....................................\n",
      "[CV]  C=1, gamma=1e-05, kernel=rbf, score=-0.18887241599103866, total=   0.5s\n",
      "[CV] C=1, gamma=1e-05, kernel=rbf ....................................\n",
      "[CV]  C=1, gamma=1e-05, kernel=rbf, score=-0.24749203299960465, total=   0.5s\n",
      "[CV] C=1, gamma=1e-05, kernel=rbf ....................................\n",
      "[CV]  C=1, gamma=1e-05, kernel=rbf, score=-0.020127978935854163, total=   0.4s\n",
      "[CV] C=1, gamma=1e-05, kernel=rbf ....................................\n",
      "[CV]  C=1, gamma=1e-05, kernel=rbf, score=-0.04863853045332567, total=   0.4s\n",
      "[CV] C=10, gamma=0.01, kernel=rbf ....................................\n",
      "[CV]  C=10, gamma=0.01, kernel=rbf, score=0.3880658983523445, total=   0.2s\n",
      "[CV] C=10, gamma=0.01, kernel=rbf ....................................\n",
      "[CV]  C=10, gamma=0.01, kernel=rbf, score=0.2899521931270085, total=   0.2s\n",
      "[CV] C=10, gamma=0.01, kernel=rbf ....................................\n",
      "[CV]  C=10, gamma=0.01, kernel=rbf, score=0.3235911899889782, total=   0.2s\n",
      "[CV] C=10, gamma=0.01, kernel=rbf ....................................\n",
      "[CV]  C=10, gamma=0.01, kernel=rbf, score=0.4367832782601967, total=   0.2s\n",
      "[CV] C=10, gamma=0.01, kernel=rbf ....................................\n",
      "[CV]  C=10, gamma=0.01, kernel=rbf, score=0.37643396883971747, total=   0.2s\n",
      "[CV] C=10, gamma=0.001, kernel=rbf ...................................\n",
      "[CV]  C=10, gamma=0.001, kernel=rbf, score=0.04366568911161317, total=   0.4s\n",
      "[CV] C=10, gamma=0.001, kernel=rbf ...................................\n",
      "[CV]  C=10, gamma=0.001, kernel=rbf, score=-0.09288462533931363, total=   0.4s\n",
      "[CV] C=10, gamma=0.001, kernel=rbf ...................................\n",
      "[CV]  C=10, gamma=0.001, kernel=rbf, score=-0.1310085364174045, total=   0.5s\n",
      "[CV] C=10, gamma=0.001, kernel=rbf ...................................\n",
      "[CV]  C=10, gamma=0.001, kernel=rbf, score=0.07206833224583187, total=   0.4s\n",
      "[CV] C=10, gamma=0.001, kernel=rbf ...................................\n",
      "[CV]  C=10, gamma=0.001, kernel=rbf, score=0.03235948731321814, total=   0.3s\n",
      "[CV] C=10, gamma=0.0001, kernel=rbf ..................................\n",
      "[CV]  C=10, gamma=0.0001, kernel=rbf, score=-0.0334470961753377, total=   0.4s\n",
      "[CV] C=10, gamma=0.0001, kernel=rbf ..................................\n",
      "[CV]  C=10, gamma=0.0001, kernel=rbf, score=-0.17798666895135495, total=   0.5s\n",
      "[CV] C=10, gamma=0.0001, kernel=rbf ..................................\n",
      "[CV]  C=10, gamma=0.0001, kernel=rbf, score=-0.2262058382648673, total=   0.5s\n",
      "[CV] C=10, gamma=0.0001, kernel=rbf ..................................\n",
      "[CV]  C=10, gamma=0.0001, kernel=rbf, score=-0.008368809258869625, total=   0.4s\n",
      "[CV] C=10, gamma=0.0001, kernel=rbf ..................................\n",
      "[CV]  C=10, gamma=0.0001, kernel=rbf, score=-0.039631515378459214, total=   0.4s\n",
      "[CV] C=10, gamma=1e-05, kernel=rbf ...................................\n",
      "[CV]  C=10, gamma=1e-05, kernel=rbf, score=-0.040327087449606225, total=   0.4s\n",
      "[CV] C=10, gamma=1e-05, kernel=rbf ...................................\n",
      "[CV]  C=10, gamma=1e-05, kernel=rbf, score=-0.18803475520704982, total=   0.5s\n",
      "[CV] C=10, gamma=1e-05, kernel=rbf ...................................\n",
      "[CV]  C=10, gamma=1e-05, kernel=rbf, score=-0.24653758771690384, total=   0.5s\n",
      "[CV] C=10, gamma=1e-05, kernel=rbf ...................................\n",
      "[CV]  C=10, gamma=1e-05, kernel=rbf, score=-0.01896937609660121, total=   0.4s\n",
      "[CV] C=10, gamma=1e-05, kernel=rbf ...................................\n"
     ]
    },
    {
     "name": "stdout",
     "output_type": "stream",
     "text": [
      "[CV]  C=10, gamma=1e-05, kernel=rbf, score=-0.04767705561574865, total=   0.4s\n",
      "[CV] C=100, gamma=0.01, kernel=rbf ...................................\n",
      "[CV]  C=100, gamma=0.01, kernel=rbf, score=0.7228101841635972, total=   0.1s\n",
      "[CV] C=100, gamma=0.01, kernel=rbf ...................................\n",
      "[CV]  C=100, gamma=0.01, kernel=rbf, score=0.7314399603638206, total=   0.1s\n",
      "[CV] C=100, gamma=0.01, kernel=rbf ...................................\n",
      "[CV]  C=100, gamma=0.01, kernel=rbf, score=0.7137746584712057, total=   0.1s\n",
      "[CV] C=100, gamma=0.01, kernel=rbf ...................................\n",
      "[CV]  C=100, gamma=0.01, kernel=rbf, score=0.7806442346680574, total=   0.1s\n",
      "[CV] C=100, gamma=0.01, kernel=rbf ...................................\n",
      "[CV]  C=100, gamma=0.01, kernel=rbf, score=0.7306902594139941, total=   0.1s\n",
      "[CV] C=100, gamma=0.001, kernel=rbf ..................................\n",
      "[CV]  C=100, gamma=0.001, kernel=rbf, score=0.38841353812236035, total=   0.2s\n",
      "[CV] C=100, gamma=0.001, kernel=rbf ..................................\n",
      "[CV]  C=100, gamma=0.001, kernel=rbf, score=0.291061726644539, total=   0.2s\n",
      "[CV] C=100, gamma=0.001, kernel=rbf ..................................\n",
      "[CV]  C=100, gamma=0.001, kernel=rbf, score=0.32741996302628246, total=   0.2s\n",
      "[CV] C=100, gamma=0.001, kernel=rbf ..................................\n",
      "[CV]  C=100, gamma=0.001, kernel=rbf, score=0.4369054446936984, total=   0.2s\n",
      "[CV] C=100, gamma=0.001, kernel=rbf ..................................\n",
      "[CV]  C=100, gamma=0.001, kernel=rbf, score=0.374942412062329, total=   0.2s\n",
      "[CV] C=100, gamma=0.0001, kernel=rbf .................................\n",
      "[CV]  C=100, gamma=0.0001, kernel=rbf, score=0.043591941938215806, total=   0.4s\n",
      "[CV] C=100, gamma=0.0001, kernel=rbf .................................\n",
      "[CV]  C=100, gamma=0.0001, kernel=rbf, score=-0.0924010987620032, total=   0.4s\n",
      "[CV] C=100, gamma=0.0001, kernel=rbf .................................\n",
      "[CV]  C=100, gamma=0.0001, kernel=rbf, score=-0.12991999169798696, total=   0.4s\n",
      "[CV] C=100, gamma=0.0001, kernel=rbf .................................\n",
      "[CV]  C=100, gamma=0.0001, kernel=rbf, score=0.07213923422269053, total=   0.4s\n",
      "[CV] C=100, gamma=0.0001, kernel=rbf .................................\n",
      "[CV]  C=100, gamma=0.0001, kernel=rbf, score=0.03200690259615668, total=   0.3s\n",
      "[CV] C=100, gamma=1e-05, kernel=rbf ..................................\n",
      "[CV]  C=100, gamma=1e-05, kernel=rbf, score=-0.03339831809353866, total=   0.4s\n",
      "[CV] C=100, gamma=1e-05, kernel=rbf ..................................\n",
      "[CV]  C=100, gamma=1e-05, kernel=rbf, score=-0.17848836291712766, total=   0.5s\n",
      "[CV] C=100, gamma=1e-05, kernel=rbf ..................................\n",
      "[CV]  C=100, gamma=1e-05, kernel=rbf, score=-0.23112734111635921, total=   0.5s\n",
      "[CV] C=100, gamma=1e-05, kernel=rbf ..................................\n",
      "[CV]  C=100, gamma=1e-05, kernel=rbf, score=-0.008651878799590618, total=   0.4s\n",
      "[CV] C=100, gamma=1e-05, kernel=rbf ..................................\n",
      "[CV]  C=100, gamma=1e-05, kernel=rbf, score=-0.03942629620305915, total=   0.4s\n"
     ]
    },
    {
     "name": "stderr",
     "output_type": "stream",
     "text": [
      "[Parallel(n_jobs=1)]: Done  80 out of  80 | elapsed:   52.2s finished\n"
     ]
    }
   ],
   "source": [
    "parameters = [{'kernel': ['rbf'], 'gamma': [1e-2, 1e-3, 1e-4, 1e-5],\n",
    "                     'C': [0.1, 1, 10, 100]}]\n",
    "gs = GridSearchCV(SVR(), parameters, cv=5, verbose=5)\n",
    "\n",
    "x_train_svm = [[x[0] for x in series] for series in x_train]\n",
    "x_valid_svm = [[x[0] for x in series] for series in x_valid]\n",
    "\n",
    "gs.fit(x_train_svm, y_train)\n",
    "\n",
    "clf = gs.best_estimator_"
   ]
  },
  {
   "cell_type": "code",
   "execution_count": 17,
   "metadata": {},
   "outputs": [
    {
     "name": "stdout",
     "output_type": "stream",
     "text": [
      "0.021490322162718734\n"
     ]
    }
   ],
   "source": [
    "predictions = clf.predict(x_valid_svm)\n",
    "print(mean_absolute_error(y_valid, predictions))"
   ]
  },
  {
   "cell_type": "code",
   "execution_count": 18,
   "metadata": {},
   "outputs": [
    {
     "name": "stdout",
     "output_type": "stream",
     "text": [
      "[0.03531159]\n"
     ]
    }
   ],
   "source": [
    "print(clf.predict([[v[0] for v in values]]))"
   ]
  },
  {
   "cell_type": "code",
   "execution_count": null,
   "metadata": {},
   "outputs": [],
   "source": []
  }
 ],
 "metadata": {
  "kernelspec": {
   "display_name": "Python 3",
   "language": "python",
   "name": "python3"
  },
  "language_info": {
   "codemirror_mode": {
    "name": "ipython",
    "version": 3
   },
   "file_extension": ".py",
   "mimetype": "text/x-python",
   "name": "python",
   "nbconvert_exporter": "python",
   "pygments_lexer": "ipython3",
   "version": "3.6.4"
  }
 },
 "nbformat": 4,
 "nbformat_minor": 2
}
